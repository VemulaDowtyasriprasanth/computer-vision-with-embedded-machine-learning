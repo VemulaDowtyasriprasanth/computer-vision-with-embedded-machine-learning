{
  "nbformat": 4,
  "nbformat_minor": 0,
  "metadata": {
    "colab": {
      "name": "solution-convolution-and-pooling.ipynb",
      "provenance": [],
      "collapsed_sections": []
    },
    "kernelspec": {
      "name": "python3",
      "display_name": "Python 3"
    },
    "language_info": {
      "name": "python"
    }
  },
  "cells": [
    {
      "cell_type": "markdown",
      "metadata": {
        "id": "7UpxgYfOmzh9"
      },
      "source": [
        "# Solution: Convolution and Pooling\n",
        "\n",
        "[![Open In Colab <](https://colab.research.google.com/assets/colab-badge.svg)](https://colab.research.google.com/github/ShawnHymel/computer-vision-with-embedded-machine-learning/blob/master/2.1.4%20-%20Project%20-%20Convolution%20and%20Pooling/solution_convolution_and_pooling.ipynb)\n",
        "\n",
        "Create a convolution filter to filter an image. Then, create a pooling function.\n",
        "\n",
        "Run each of the cells paying attention to their contents and output. Fill out the necessary parts of the functions where you find the following comment:\n",
        "\n",
        "```\n",
        "# >>> ENTER YOUR CODE HERE <<<\n",
        "```\n",
        "\n",
        "Note that you may not use libraries other than those listed in the first cell to perform convolution and pooling.\n",
        "\n",
        "You can see what the output images are supposed to look like [here](https://github.com/ShawnHymel/computer-vision-with-embedded-machine-learning/raw/master/2.1.4%20-%20Project%20-%20Convolution%20and%20Pooling/output-images.png).\n",
        "\n",
        "If you get stuck or would like to compare answers, you can find [my solution here](https://colab.research.google.com/github/ShawnHymel/computer-vision-with-embedded-machine-learning/blob/master/2.1.4%20-%20Project%20-%20Convolution%20and%20Pooling/solution_convolution_and_pooling.ipynb).\n",
        "\n",
        "Author: EdgeImpulse, Inc.<br>\n",
        "Date: August 2, 2021<br>\n",
        "License: [Apache-2.0](apache.org/licenses/LICENSE-2.0)<br>"
      ]
    },
    {
      "cell_type": "code",
      "metadata": {
        "id": "n2_hUewhmyTm"
      },
      "source": [
        "### Import libraries\n",
        "\n",
        "import os\n",
        "import PIL\n",
        "import requests\n",
        "import math\n",
        "\n",
        "import numpy as np\n",
        "import matplotlib.pyplot as plt"
      ],
      "execution_count": null,
      "outputs": []
    },
    {
      "cell_type": "code",
      "metadata": {
        "id": "rnfkQvNYxHCM"
      },
      "source": [
        "### Download example image\n",
        "\n",
        "# Image location and path\n",
        "url = \"https://github.com/ShawnHymel/computer-vision-with-embedded-machine-learning/raw/master/2.1.4%20-%20Project%20-%20Convolution%20and%20Pooling/resistor.png\"\n",
        "img_path = os.path.join(\"/content\", \"resistor.png\")\n",
        "\n",
        "# Download image\n",
        "resp = requests.get(url)\n",
        "\n",
        "# Write image to file\n",
        "with open(img_path, 'wb') as f:\n",
        "  f.write(resp.content)"
      ],
      "execution_count": null,
      "outputs": []
    },
    {
      "cell_type": "code",
      "metadata": {
        "id": "dBV7wfOky1XY"
      },
      "source": [
        "### Open and view image\n",
        "\n",
        "# Use PIL to open the image and convert it to grayscale\n",
        "img = PIL.Image.open(img_path)\n",
        "img = img.convert('L')\n",
        "\n",
        "# Convert image to Numpy array\n",
        "img = np.asarray(img)\n",
        "\n",
        "# Show dimensions and view array as image\n",
        "print(img.shape)\n",
        "plt.imshow(img, cmap='gray', vmin=0, vmax=255)"
      ],
      "execution_count": null,
      "outputs": []
    },
    {
      "cell_type": "markdown",
      "metadata": {
        "id": "s97lc17wzo0G"
      },
      "source": [
        "## Part 1: Convolution\n",
        "\n",
        "Your assignment is to write a function that convolves the image array (stored in the `img` variable) with a given kernel and stride. Assume valid padding (e.g. no padding). Note that the kernel will be given as a 2D Numpy array.\n",
        "\n",
        "You are welcome to use for loops in this exercise, as it helps to see what's going on in the convolution operation. Bonus points if you do it without for loops (caveat: bonus points don't mean anything in this course).\n",
        "\n",
        "You may find some of the following Numpy operations to be helpful:\n",
        "\n",
        "* [numpy.arange()](https://numpy.org/doc/stable/reference/generated/numpy.arange.html)\n"
      ]
    },
    {
      "cell_type": "code",
      "metadata": {
        "id": "0FDjgm5pzZOg"
      },
      "source": [
        "### Convolution function\n",
        "\n",
        "def convolve(img, kernel, stride):\n",
        "\n",
        "  # Compute dimensions of output image\n",
        "  out_height = math.floor((img.shape[0] - kernel.shape[0]) / stride) + 1\n",
        "  out_width = math.floor((img.shape[1] - kernel.shape[1]) / stride) + 1\n",
        "  \n",
        "  # Create blank output image\n",
        "  convolved_img = np.zeros((out_height, out_width))\n",
        "\n",
        "  # >>> ENTER YOUR CODE HERE <<<\n",
        "  \n",
        "  # Loop through each pixel in the output array. Note that this is not the most efficient way of\n",
        "  # doing convolution, but it provides some insights into what's going on.\n",
        "  for i in np.arange(0, out_height):\n",
        "    for j in np.arange(0, out_width):\n",
        "\n",
        "      # Set a temporary variable to 0\n",
        "      accumulator = 0\n",
        "\n",
        "      # Do element-wise multiplication and sum the result over the window/kernel\n",
        "      for m in np.arange(0, kernel.shape[0]):\n",
        "        for n in np.arange(0, kernel.shape[1]):\n",
        "          accumulator += img[(stride * i) + m, (stride * j) + n] * kernel[m, n]\n",
        "\n",
        "      # Set output image pixel to accumulator value\n",
        "      convolved_img[i, j] = accumulator\n",
        "\n",
        "  # Round all elements, convert to integers, and clamp to values between 0 and 255\n",
        "  convolved_img = np.rint(convolved_img).astype(int)\n",
        "  convolved_img = np.clip(convolved_img, 0, 255)\n",
        "\n",
        "  return convolved_img"
      ],
      "execution_count": null,
      "outputs": []
    },
    {
      "cell_type": "code",
      "metadata": {
        "id": "IeLJ2y9h0bVH"
      },
      "source": [
        "### Test 1: Gaussian blur filter\n",
        "\n",
        "# Define kernel\n",
        "kernel = np.array([[1/16, 2/16, 1/16],\n",
        "                   [2/16, 4/16, 2/16],\n",
        "                   [1/16, 2/16, 1/16]])\n",
        "\n",
        "# Call your convolve function (with a stride of 1)\n",
        "out_img = convolve(img, kernel, 1)\n",
        "\n",
        "# Show dimensions and view array as image\n",
        "print(out_img.shape)\n",
        "plt.imshow(out_img, cmap='gray', vmin=0, vmax=255)"
      ],
      "execution_count": null,
      "outputs": []
    },
    {
      "cell_type": "code",
      "metadata": {
        "id": "OU_dTpq229_D"
      },
      "source": [
        "### Test 2: Edge detection\n",
        "\n",
        "# Define kernel\n",
        "kernel = np.array([[-1, -1, -1],\n",
        "                   [-1, 8, -1],\n",
        "                   [-1, -1, -1]])\n",
        "\n",
        "# Call your convolve function (with a stride of 1)\n",
        "out_img = convolve(img, kernel, 1)\n",
        "\n",
        "# Show dimensions and view array as image\n",
        "print(out_img.shape)\n",
        "plt.imshow(out_img, cmap='gray', vmin=0, vmax=255)"
      ],
      "execution_count": null,
      "outputs": []
    },
    {
      "cell_type": "code",
      "metadata": {
        "id": "NJcZaIPs3Ksh"
      },
      "source": [
        "### Test 3: Sharpen with stride > 1\n",
        "\n",
        "# Define kernel\n",
        "kernel = np.array([[0, -1, 0],\n",
        "                   [-1, 5, -1],\n",
        "                   [0, -1, 0]])\n",
        "\n",
        "# Call your convolve function (with a stride of 2)\n",
        "out_img = convolve(img, kernel, 2)\n",
        "\n",
        "# Show dimensions and view array as image\n",
        "print(out_img.shape)\n",
        "plt.imshow(out_img, cmap='gray', vmin=0, vmax=255)"
      ],
      "execution_count": null,
      "outputs": []
    },
    {
      "cell_type": "markdown",
      "metadata": {
        "id": "MHAcZ4qK5IAK"
      },
      "source": [
        "## Part 2: Pooling\n",
        "\n",
        "Your assignment is to write a function that performs max pooling on the input image array (stored in the `img` variable). Assume valid padding (e.g. no padding). Also, assume that the pool width determines the horizontal stride and the pool height determines the vertical stride.\n",
        "\n",
        "You are welcome to use for loops in this exercise, as it helps to see what's going on in the convolution operation. Bonus points if you do it without for loops (caveat: bonus points don't mean anything in this course).\n",
        "\n",
        "You may find some of the following Numpy operations to be helpful:\n",
        "\n",
        "* [numpy.arange()](https://numpy.org/doc/stable/reference/generated/numpy.arange.html)"
      ]
    },
    {
      "cell_type": "code",
      "metadata": {
        "id": "yBeCY9Bd4o_b"
      },
      "source": [
        "### Max pooling function\n",
        "\n",
        "def maxpooling(img, pool_height, pool_width):\n",
        "\n",
        "  # Set stride amounts\n",
        "  stride_y = pool_height\n",
        "  stride_x = pool_width\n",
        "\n",
        "  # Compute dimensions of output image\n",
        "  out_height = math.floor((img.shape[0] - pool_height) / stride_y) + 1\n",
        "  out_width = math.floor((img.shape[1] - pool_width) / stride_x) + 1\n",
        "  \n",
        "  # Create blank output image\n",
        "  pooled_img = np.zeros((out_height, out_width))\n",
        "\n",
        "  # >>> ENTER YOUR CODE HERE <<<\n",
        "\n",
        "  # Loop through each pixel in the output array. Note that this is not the most efficient way of\n",
        "  # doing convolution, but it provides some insights into what's going on.\n",
        "  for i in np.arange(0, out_height):\n",
        "    for j in np.arange(0, out_width):\n",
        "\n",
        "      # Set output to the value of the first element in the window\n",
        "      out_val = img[(stride_y * i), (stride_x * j)]\n",
        "\n",
        "      # Look through each element in the window to find the max value\n",
        "      for m in np.arange(0, pool_height):\n",
        "        for n in np.arange(0, pool_width):\n",
        "          out_val = max(out_val, img[(stride_y * i) + m, (stride_x * j) + n])\n",
        "\n",
        "      # Set element in output array to max value\n",
        "      pooled_img[i, j] = out_val\n",
        "\n",
        "  # Round all elements, convert to integers, and clamp to values between 0 and 255\n",
        "  pooled_img = np.rint(pooled_img).astype(int)\n",
        "  pooled_img = np.clip(pooled_img, 0, 255)\n",
        "\n",
        "  return pooled_img"
      ],
      "execution_count": null,
      "outputs": []
    },
    {
      "cell_type": "code",
      "metadata": {
        "id": "4M-Q5Wzl_LK4"
      },
      "source": [
        "### Test 1: Max pool original image with pool size of (2, 3)\n",
        "\n",
        "# Call your pooling function (with pool_size=(2, 3))\n",
        "out_img = maxpooling(img, 2, 3)\n",
        "\n",
        "# Show dimensions and view array as image\n",
        "print(out_img.shape)\n",
        "plt.imshow(out_img, cmap='gray', vmin=0, vmax=255)"
      ],
      "execution_count": null,
      "outputs": []
    },
    {
      "cell_type": "code",
      "metadata": {
        "id": "-Wm4R5MS_obx"
      },
      "source": [
        "### Test 2: Detect edges and pool\n",
        "\n",
        "# Define kernel\n",
        "kernel = np.array([[-1, -1, -1],\n",
        "                   [-1, 8, -1],\n",
        "                   [-1, -1, -1]])\n",
        "\n",
        "# Call your convolve function (with a stride of 1)\n",
        "convolved_img = convolve(img, kernel, 1)\n",
        "\n",
        "# Call your pooling function (with pool_size=(2, 2))\n",
        "out_img = maxpooling(convolved_img, 2, 2)\n",
        "\n",
        "# Show dimensions and view array as image\n",
        "print(out_img.shape)\n",
        "plt.imshow(out_img, cmap='gray', vmin=0, vmax=255)"
      ],
      "execution_count": null,
      "outputs": []
    },
    {
      "cell_type": "code",
      "metadata": {
        "id": "k2rg60rGAXOS"
      },
      "source": [
        ""
      ],
      "execution_count": null,
      "outputs": []
    }
  ]
}
